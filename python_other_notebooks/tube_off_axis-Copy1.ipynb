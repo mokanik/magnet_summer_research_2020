{
 "cells": [
  {
   "cell_type": "code",
   "execution_count": 92,
   "metadata": {
    "collapsed": true
   },
   "outputs": [],
   "source": [
    "import numpy as np\n",
    "from numpy import sin,cos,exp,tan,log,log10\n",
    "\n",
    "import scipy as s\n",
    "from scipy.integrate import odeint\n",
    "from scipy import pi\n",
    "\n",
    "import matplotlib.pyplot as plt\n",
    "import time"
   ]
  },
  {
   "cell_type": "code",
   "execution_count": 111,
   "metadata": {
    "collapsed": true
   },
   "outputs": [],
   "source": [
    "# physical parameters\n",
    "a = 0.05   # radius of tube (m)\n",
    "H = 10  # length of tube (m)\n",
    "h = 0.01   # thinckness of tube (m)\n",
    "sigma = 5.92e7   # conductivity of tube material (Siemens)\n",
    "mu = 4*pi*1e-7   # magnetic permeability\n",
    "m = 2   # dipole moment (A/m^2)\n",
    "M = 0.0030   # mass of magnet (kg)\n",
    "g = 9.81   # gravity acceleration (N/kg)\n",
    "\n",
    "\n",
    "# simulation parameters\n",
    "t_max = 3\n",
    "max_iter = 5000   # total number of iterations in time\n",
    "dt = t_max/max_iter\n",
    "\n",
    "init_height = 0.02*H # setting the initial condition z[0]\n",
    "init_displ = 0.2*a  # setting the initial condition x[0]\n",
    "\n",
    "N = 100  # number of ring partitions of tube\n",
    "dH = H/N   # height of one ring\n",
    "R = 2*pi*a/(sigma*h*dH)   # resistance of one ring (Ohm)\n",
    "Z_ring = -(np.arange(N)+1/2) * dH   # array that stores effective positions of rings (midpoints in z)\n",
    "#print(Z_ring/dH)\n",
    "\n",
    "\n",
    "\n",
    "\n",
    "def emf(x,z,vz):\n",
    "    \"\"\"This function calculates the e.m.f. by doing integral \"v cross B\" along the body of the ring, neglecting the vx component\n",
    "    of motion, which is much smaller than vz component.\"\"\"\n",
    "    v = z/a\n",
    "    u = x/a\n",
    "    integral =  s.integrate.quad(lambda phi: v * (1 - u*cos(phi)) / (1 + u**2 - 2*u*cos(phi) + v**2)**(5/2), 0, 2*pi )\n",
    "    integral = integral[0]\n",
    "    integral *= - 3 * mu/4/pi * m * vz / a**2\n",
    "    return integral\n",
    "\n",
    "\n",
    "def force_z(x,z,J):\n",
    "    \"\"\"Magnetic force of an elemental ring in z-direction, argument z interpreted as z(magnet) - z_ring\"\"\"\n",
    "    u = x/a\n",
    "    v = z/a\n",
    "    integral = s.integrate.quad(lambda phi: v * (1 - u*cos(phi)) / (1 + u**2 + v**2 - 2*u*cos(phi))**(5/2), 0, 2*pi)\n",
    "    integral = integral[0]\n",
    "    integral *= + 3 * mu/4/pi * m / a**2 * J\n",
    "    return integral\n",
    "    \n",
    "def force_x(x,z,J):\n",
    "    \"\"\"Magnetic force of an elemental ring in x-direction, argument z interpreted as z(magnet) - z_ring\"\"\"\n",
    "    u = x/a\n",
    "    v = z/a\n",
    "    integral = s.integrate.quad(lambda phi: cos(phi) * (1 + u**2  - 2*v**2 - 2*u*cos(phi)) / (1 + u**2  + v**2 - 2*u*cos(phi))**(5/2), 0, 2*pi)\n",
    "    integral = integral[0]\n",
    "    integral *= +  mu/4/pi * m / a**2 * J\n",
    "    return integral\n",
    "\n"
   ]
  },
  {
   "cell_type": "code",
   "execution_count": 112,
   "metadata": {},
   "outputs": [
    {
     "data": {
      "image/png": "[encoded data removed]",
      "text/plain": [
       "<matplotlib.figure.Figure at 0x7fc184d26cc0>"
      ]
     },
     "metadata": {},
     "output_type": "display_data"
    },
    {
     "data": {
      "image/png": "[encoded data removed]",
      "text/plain": [
       "<matplotlib.figure.Figure at 0x7fc1789308d0>"
      ]
     },
     "metadata": {},
     "output_type": "display_data"
    },
    {
     "name": "stdout",
     "output_type": "stream",
     "text": [
      "final coordinate of magnet, in cm: -289.88\n",
      "and in case of free fall, in cm:   -4394.50\n",
      "\n",
      "\n",
      "simulation took 217.28 s\n"
     ]
    }
   ],
   "source": [
    "# initiate arrays that store our data\n",
    "\n",
    "T = np.linspace(0,t_max,max_iter)   # array that stores all points in time \n",
    "\n",
    "z = np.zeros((max_iter))   # array that stores coordinates of magnet along axes as time progresses\n",
    "vz = np.zeros((max_iter))\n",
    "az = np.zeros((max_iter))\n",
    "\n",
    "x = np.zeros((max_iter))   # array that stores radial coordinates of magnet in x-z plane as time progresses\n",
    "vx = np.zeros((max_iter))\n",
    "ax = np.zeros((max_iter))\n",
    "\n",
    "J = np.zeros((max_iter,N))  # array that stores currents (in Amperes) in all rings as time progresses\n",
    "Fx = np.zeros((max_iter,N)) # array that stores lateral forces (in Newtons) in all rings as time progresses\n",
    "Fz = np.zeros((max_iter,N)) # array that stores vertical forces (in Newtons) in all rings as time progresses\n",
    "\n",
    "\n",
    "\n",
    "# now implement ICs to get values for first two iterations\n",
    "\n",
    "z[0] = init_height\n",
    "az[0] = -g\n",
    "vz[0] = 1/2*dt*az[0] # vz[0] is in fact vz[1/2], all indices for velocity are shifted forwards by 1/2\n",
    "z[1] = z[0] + vz[0]*dt\n",
    "\n",
    "x[0] = init_displ\n",
    "ax[0] = 0\n",
    "vx[0] = 1/2*dt*ax[0] # vx[0] is in fact vx[1/2], all indices for velocity are shifted forwards by 1/2\n",
    "x[1] = x[0] + vx[0]*dt\n",
    "\n",
    "J[0,:] = 0\n",
    "J[1,:] = 1/R * emf(x[1],z[1],vz[0]+1/2*dt*az[0])  # use extrapolated velocity between V[1/2] and V[3/2] to approximate V[1]\n",
    "\n",
    "\n",
    "\n",
    "# solve using an improved finite difference approach \"x[t+dt] = x[t] + dt*x'[t+1/2*dt]\"\n",
    "\n",
    "sim_start = time.time()\n",
    "\n",
    "for i in range(1,max_iter-1):\n",
    "        \n",
    "    for n in range(N):  # quite stupid way, should later vectorize, but probably would not make much difference,\n",
    "                        # as looping is likely negligible compared to all these horrible numerical integrations\n",
    "        Fx[i,n] = force_x(x[i], z[i]-Z_ring[n], J[i,n])\n",
    "        Fz[i,n] = force_z(x[i], z[i]-Z_ring[n], J[i,n])\n",
    "        \n",
    "    ax[i] = 1/M * sum(Fx[i,:])   # sum all forces corresponding to separate rings at iteration i\n",
    "    az[i] = -g + 1/M * sum(Fz[i,:])\n",
    "    \n",
    "    vx[i] = vx[i-1] + ax[i]*dt   # e.g. for i=1: V[3/2] = V[1/2] + A[1]*dt\n",
    "    vz[i] = vz[i-1] + az[i]*dt   # e.g. for i=1: V[3/2] = V[1/2] + A[1]*dt\n",
    "    \n",
    "    x[i+1] = x[i] + vx[i]*dt   # e.g. for i=1: Z[2] = Z[1] + V[3/2]*dt\n",
    "    z[i+1] = z[i] + vz[i]*dt   # e.g. for i=1: Z[2] = Z[1] + V[3/2]*dt\n",
    "    \n",
    "    for n in range(N):\n",
    "        J[i+1,n] = 1/R * emf(x[i+1], z[i+1]-Z_ring[n],vz[i]+1/2*dt*az[i]) # e.g. for i=1: J[2] = f( Z[2], V[3/2]+A[2]*1/2*dt )\n",
    "\n",
    "sim_end = time.time()    \n",
    "    \n",
    "    \n",
    "    \n",
    "plt.plot(T,z,'b',label='simulation')\n",
    "#plt.plot(T,init_height-1/2*g*T**2,'g',label='free fall')\n",
    "plt.plot(T, 0*np.ones(max_iter),'r', label='beginning of tube')\n",
    "plt.plot(T, -H*np.ones(max_iter),'r', label='end of tube')\n",
    "plt.legend()\n",
    "plt.xlabel('time/s')\n",
    "plt.ylabel('z/m')\n",
    "plt.title('Plot of z-coordinate of falling magnet')\n",
    "plt.show()\n",
    "\n",
    "plt.plot(T,x,'b',label='simulation')\n",
    "plt.xlabel('time/s')\n",
    "plt.ylabel('x/m')\n",
    "plt.title('Plot of x-coordinate of falling magnet')\n",
    "plt.show()\n",
    "\n",
    "ref = -65.1665\n",
    "print(\"final coordinate of magnet, in cm:\",\"{:.2f}\".format(z[-1]*100))\n",
    "#print(\"value from ref. simulation, in cm:\", ref)\n",
    "print(\"and in case of free fall, in cm:  \",\"{:.2f}\".format((init_height-1/2*g*T[-1]**2)*100))\n",
    "print()\n",
    "#print(\"percentage error of reduction in free-fall distance from reference:  \",(z[-1]*100-ref)/((init_height-1/2*g*T[-1]**2)*100 - ref) * 100,\"%\")\n",
    "print()\n",
    "print(\"simulation took\",\"{:.2f}\".format(sim_end-sim_start),\"s\")\n"
   ]
  },
  {
   "cell_type": "code",
   "execution_count": 103,
   "metadata": {},
   "outputs": [
    {
     "data": {
      "text/plain": [
       "'3.14'"
      ]
     },
     "execution_count": 103,
     "metadata": {},
     "output_type": "execute_result"
    }
   ],
   "source": [
    "\"{:.2f}\".format(pi)"
   ]
  },
  {
   "cell_type": "code",
   "execution_count": null,
   "metadata": {
    "collapsed": true
   },
   "outputs": [],
   "source": []
  }
 ],
 "metadata": {
  "kernelspec": {
   "display_name": "Python 3",
   "language": "python",
   "name": "python3"
  },
  "language_info": {
   "codemirror_mode": {
    "name": "ipython",
    "version": 3
   },
   "file_extension": ".py",
   "mimetype": "text/x-python",
   "name": "python",
   "nbconvert_exporter": "python",
   "pygments_lexer": "ipython3",
   "version": "3.6.2"
  }
 },
 "nbformat": 4,
 "nbformat_minor": 2
}
