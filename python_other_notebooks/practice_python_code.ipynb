{
 "cells": [
  {
   "cell_type": "code",
   "execution_count": null,
   "metadata": {
    "collapsed": true
   },
   "outputs": [],
   "source": [
    "# practice code - solving SHO\n",
    "\n",
    "omega = 0.9\n",
    "A, v0 = 3, 0\n",
    "x0 = A, v0\n",
    "\n",
    "t = np.linspace(0,20,100)\n",
    "\n",
    "\n",
    "def dxdt(x,t,omega):\n",
    "    \"Return dx/dt = f(x,t) at any time t\"\n",
    "    x1,x2 = x\n",
    "    dx1dt = x2\n",
    "    dx2dt = -omega**2 * x1\n",
    "    return dx1dt,dx2dt\n",
    "\n",
    "x1,x2 = odeint(dxdt, x0, t, args=(omega,)).T\n",
    "\n",
    "plt.plot(t, x1, 'o')\n",
    "plt.plot(t, x2, 'x')\n",
    "plt.show()"
   ]
  }
 ],
 "metadata": {
  "kernelspec": {
   "display_name": "Python 3",
   "language": "python",
   "name": "python3"
  },
  "language_info": {
   "codemirror_mode": {
    "name": "ipython",
    "version": 3
   },
   "file_extension": ".py",
   "mimetype": "text/x-python",
   "name": "python",
   "nbconvert_exporter": "python",
   "pygments_lexer": "ipython3",
   "version": "3.6.2"
  }
 },
 "nbformat": 4,
 "nbformat_minor": 2
}
