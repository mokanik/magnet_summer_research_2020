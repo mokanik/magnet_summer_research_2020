{
 "cells": [
  {
   "cell_type": "code",
   "execution_count": 1,
   "metadata": {
    "collapsed": true
   },
   "outputs": [],
   "source": [
    "import numpy as np\n",
    "import scipy as s\n",
    "import matplotlib.pyplot as plt\n",
    "import time\n",
    "\n",
    "from scipy.integrate import odeint\n",
    "from scipy import pi"
   ]
  },
  {
   "cell_type": "code",
   "execution_count": 2,
   "metadata": {},
   "outputs": [
    {
     "data": {
      "text/plain": [
       "0.0006743822141799098"
      ]
     },
     "execution_count": 2,
     "metadata": {},
     "output_type": "execute_result"
    }
   ],
   "source": [
    "# physical parameters\n",
    "a = 0.01   # radius (m)\n",
    "mu = 4*pi*1e-7   # magnetic permeability\n",
    "m = 1   # dipole moment (A/m^2)\n",
    "R = 0.0001   # resistance (Ohm)\n",
    "M = 0.01   # mass of magnet (kg)\n",
    "g = 9.81   # gravity acceleration (N/kg)\n",
    "\n",
    "# simulation parameters\n",
    "init_height,init_speed = 0.1,0\n",
    "t_max = 0.2\n",
    "max_iter = 10000\n",
    "dt = t_max/max_iter\n",
    "T = np.linspace(0,t_max,max_iter)\n",
    "\n",
    "\n",
    "\n",
    "def magForce(z,J):\n",
    "    return 3*mu*J*m*a**2 /2 * z/(a**2+z**2)**(5/2)\n",
    "\n",
    "def dPhidz(z,v):\n",
    "    return -3*mu*m*v*a**2 /2 * z/(a**2+z**2)**(5/2)\n",
    "\n",
    "dPhidz(2*a, -1)"
   ]
  },
  {
   "cell_type": "code",
   "execution_count": 3,
   "metadata": {},
   "outputs": [
    {
     "data": {
      "image/png": "[encoded data removed]",
      "text/plain": [
       "<matplotlib.figure.Figure at 0x7f9680024b38>"
      ]
     },
     "metadata": {},
     "output_type": "display_data"
    },
    {
     "name": "stdout",
     "output_type": "stream",
     "text": [
      "-0.0962\n",
      "simulation took 0.002789020538330078 s\n"
     ]
    }
   ],
   "source": [
    "# solve using odeint function\n",
    "\n",
    "\n",
    "\n",
    "# system of ODEs is z''=-g + F(J)/m, J = G(z') -> z''-F(G(z'))/m + g = 0 -> z''-alpha* z^2 z'/(a^2+z^2)^5 + g = 0\n",
    "alpha = 1/R*(3*mu*m*(a**2)/2)**2\n",
    "# initial conditions\n",
    "ICs = init_height,init_speed\n",
    "\n",
    "def derivatives(z,T):\n",
    "        z0, z1 = z\n",
    "        dz0dt = z1\n",
    "        dz1dt = -alpha*(z0**2)*z1 / (a**2 + z0**2) - g\n",
    "        return dz0dt, dz1dt\n",
    "\n",
    "sim_start = time.time()\n",
    "soln = odeint(derivatives, ICs, T)\n",
    "sim_end = time.time()\n",
    "path = soln[:,0]\n",
    "\n",
    "plt.plot(T,path)\n",
    "plt.plot(T,init_height-1/2*g*T**2)\n",
    "plt.show()\n",
    "    \n",
    "\n",
    "print(path[-1])\n",
    "print(\"simulation took\",sim_end-sim_start,\"s\")"
   ]
  },
  {
   "cell_type": "code",
   "execution_count": 4,
   "metadata": {},
   "outputs": [
    {
     "name": "stdout",
     "output_type": "stream",
     "text": [
      "final coordinate of magnet, in cm: -7.16498401135\n",
      "value from ref. simulation, in cm: -7.16856\n",
      "and in case of free fall, in cm:   -9.62\n",
      "\n",
      "percentage error from reference:   -0.0498843372662 %\n",
      "\n",
      "simulation took 0.15682005882263184 s\n"
     ]
    }
   ],
   "source": [
    "# solve using a basic finite difference approach \"x[t+dt] = x[t] + dt*x'[t]\"\n",
    "\n",
    "\n",
    "Z = np.zeros((max_iter))\n",
    "V = np.zeros((max_iter))\n",
    "A = np.zeros((max_iter))\n",
    "J = np.zeros((max_iter))\n",
    "\n",
    "J[0] = 0\n",
    "Z[0] = init_height\n",
    "V[0] = 0\n",
    "Z[1] = Z[0] + V[0]*dt\n",
    "\n",
    "sim_start = time.time()\n",
    "for i in range(0,max_iter-2):\n",
    "    A[i] = -g + 1/M * magForce(Z[i],J[i])\n",
    "    V[i+1] = V[i] + A[i]*dt\n",
    "    J[i+1] = 1/R * dPhidz(Z[i+1],V[i+1])\n",
    "    Z[i+2] = Z[i+1] + V[i+1]*dt\n",
    "sim_end = time.time()  \n",
    "\n",
    "#plt.plot(T,Z,'b')\n",
    "#plt.plot(T,init_height-1/2*g*T**2,'r')\n",
    "#plt.show()\n",
    "\n",
    "#plt.plot(T,J,'k')\n",
    "#plt.show()\n",
    "\n",
    "print(\"final coordinate of magnet, in cm:\",Z[-1]*100)\n",
    "print(\"value from ref. simulation, in cm:\",-7.16856)\n",
    "print(\"and in case of free fall, in cm:  \",(init_height-1/2*g*T[-1]**2)*100)\n",
    "print()\n",
    "print(\"percentage error from reference:  \",(Z[-1]*100+7.16856)/(-7.16856)*100,\"%\")\n",
    "print()\n",
    "print(\"simulation took\",sim_end-sim_start,\"s\")"
   ]
  },
  {
   "cell_type": "code",
   "execution_count": 72,
   "metadata": {},
   "outputs": [
    {
     "name": "stdout",
     "output_type": "stream",
     "text": [
      "final coordinate of magnet, in cm: -7.16550381509\n",
      "value from ref. simulation, in cm: -7.16856\n",
      "and in case of free fall, in cm:   -9.62\n",
      "\n",
      "percentage error from reference:   -0.0426331774935 %\n",
      "\n",
      "simulation took 0.09778380393981934 s\n"
     ]
    }
   ],
   "source": [
    "# solve using an improved finite difference approach \"x[t+dt] = x[t] + dt*x'[t+1/2*dt]\"\n",
    "\n",
    "\n",
    "Z = np.zeros((max_iter))\n",
    "V = np.zeros((max_iter))\n",
    "A = np.zeros((max_iter))\n",
    "J = np.zeros((max_iter))\n",
    "\n",
    "J[0] = 0\n",
    "Z[0] = init_height\n",
    "A[0] = -g\n",
    "V[0] = 0 + 1/2*dt*A[0] # V[0] is in fact V[1/2], all indices for velocity are shifted forwards by 1/2\n",
    "Z[1] = Z[0] + V[0]*dt\n",
    "J[1] = 1/R * dPhidz(Z[1],V[0]+1/2*dt*A[0])  # use extrapolated velocity between V[1/2] and V[3/2] to get V[1]\n",
    "\n",
    "sim_start = time.time()\n",
    "for i in range(1,max_iter-1):\n",
    "    A[i] = -g + 1/M * magForce(Z[i],J[i])\n",
    "    V[i] = V[i-1] + A[i]*dt  # e.g. for i=1: V[3/2] = V[1/2] + A[1]*dt\n",
    "    Z[i+1] = Z[i] + V[i]*dt # e.g. for i=1: Z[2] = Z[1] + V[3/2]*dt\n",
    "    J[i+1] = 1/R * dPhidz(Z[i+1],V[i]+1/2*dt*A[i])  # e.g. for i=1: J[2] = f( Z[2], V[3/2]+A[2]*1/2*dt )\n",
    "sim_end = time.time()   \n",
    "    \n",
    "#plt.plot(T,Z,'b')\n",
    "#plt.plot(T,init_height-1/2*g*T**2,'r')\n",
    "#plt.show()\n",
    "\n",
    "#plt.plot(T,J,'k')\n",
    "#plt.show()\n",
    "\n",
    "print(\"final coordinate of magnet, in cm:\",Z[-1]*100)\n",
    "print(\"value from ref. simulation, in cm:\",-7.16856)\n",
    "print(\"and in case of free fall, in cm:  \",(init_height-1/2*g*T[-1]**2)*100)\n",
    "print()\n",
    "print(\"percentage error from reference:  \",(Z[-1]*100+7.16856)/(-7.16856)*100,\"%\")\n",
    "print()\n",
    "print(\"simulation took\",sim_end-sim_start,\"s\")"
   ]
  },
  {
   "cell_type": "code",
   "execution_count": 5,
   "metadata": {},
   "outputs": [
    {
     "data": {
      "image/png": "[encoded data removed]",
      "text/plain": [
       "<matplotlib.figure.Figure at 0x7f967817d470>"
      ]
     },
     "metadata": {},
     "output_type": "display_data"
    },
    {
     "name": "stdout",
     "output_type": "stream",
     "text": [
      "final coordinate of magnet, in cm: -7.16550382307\n",
      "value from ref. simulation, in cm: -7.16856\n",
      "and in case of free fall, in cm:   -9.62\n",
      "\n",
      "percentage error from reference:   -0.0426330661675 %\n",
      "\n",
      "simulation took 0.08935666084289551 s\n"
     ]
    }
   ],
   "source": [
    "# solve using finite difference approach which does not invoke matrices A,V, but instead expresses time derivatives from Z\n",
    "# use two point operator for A=Z'':  (Z[i+1] - 2*Z[i] + Z[i-1]) / dt**2 = g - 1/M * magForce(Z[i],J[i])\n",
    "# use central difference for V=Z': (Z[i+1] - Z[i-1])  / (2*dt) == Z'\n",
    "\n",
    "T = np.linspace(0,t_max,max_iter)\n",
    "\n",
    "Z = np.zeros((max_iter))   # array that stores positions of magnet as time progresses\n",
    "J = np.zeros((max_iter))   # redundant in this implementation\n",
    "\n",
    "const = -1/R * 1/M * (3/2 * mu * m * a**2)**2\n",
    "\n",
    "Z[0] = init_height\n",
    "Z[1] = Z[0] - 1/2 * g * dt**2\n",
    "J[0] = 0\n",
    "J[1] = 1/R * dPhidz(Z[1], (Z[1]-Z[0])/dt)\n",
    "\n",
    "sim_start = time.time()\n",
    "for i in range(1,max_iter-1):\n",
    "\n",
    "    # one approach as follows - but not feasible this way, as J[i] needs Z[i+1] and vice versa\n",
    "    #J[i,:] = 1/R * dPhidz(Z[i]-Z_ring, (Z[i+1]-Z[i-1])/(2*dt))\n",
    "    #F[i,:] = magForce(Z[i]-Z_ring, J[i,:])\n",
    "    #Z[i+1] = dt**2 * (-g + 1/M * F[i,:]) + 2*Z[i] - Z[i-1]\n",
    "    \n",
    "    \n",
    "    # better to directly express J[i] = beta * (Z[i+1]-Z[i-1])/(2*dt) * Z[i]\n",
    "    Z[i+1] = (2*Z[i] - Z[i-1] - g*dt**2 - const / 2 * Z[i-1] * Z[i]**2 * dt / (a**2 + Z[i]**2)**5 )  /  (1 - const / 2 * Z[i]**2 * dt / (a**2 + Z[i]**2)**5)\n",
    "sim_end = time.time()\n",
    "    \n",
    "plt.plot(T,Z,'b')\n",
    "plt.plot(T,init_height-1/2*g*T**2,'r')\n",
    "plt.show()\n",
    "\n",
    "\n",
    "\n",
    "print(\"final coordinate of magnet, in cm:\",Z[-1]*100)\n",
    "print(\"value from ref. simulation, in cm:\",-7.16856)\n",
    "print(\"and in case of free fall, in cm:  \",(init_height-1/2*g*T[-1]**2)*100)\n",
    "print()\n",
    "print(\"percentage error from reference:  \",(Z[-1]*100+7.16856)/(-7.16856)*100,\"%\")\n",
    "print()\n",
    "print(\"simulation took\",sim_end-sim_start,\"s\")"
   ]
  },
  {
   "cell_type": "code",
   "execution_count": 13,
   "metadata": {},
   "outputs": [
    {
     "name": "stdout",
     "output_type": "stream",
     "text": [
      "[ 1.85407468  1.85407468  1.85407468  1.85407468  1.85407468  1.85407468\n",
      "  1.85407468  1.85407468  1.85407468  1.85407468]\n",
      "[1 2 3]\n"
     ]
    },
    {
     "ename": "IndexError",
     "evalue": "invalid index to scalar variable.",
     "output_type": "error",
     "traceback": [
      "\u001b[0;31m---------------------------------------------------------------------------\u001b[0m",
      "\u001b[0;31mIndexError\u001b[0m                                Traceback (most recent call last)",
      "\u001b[0;32m<ipython-input-13-96405e5b10e0>\u001b[0m in \u001b[0;36m<module>\u001b[0;34m()\u001b[0m\n\u001b[1;32m     14\u001b[0m \u001b[0memf_tube2\u001b[0m \u001b[0;34m=\u001b[0m \u001b[0mnp\u001b[0m\u001b[0;34m.\u001b[0m\u001b[0mvectorize\u001b[0m\u001b[0;34m(\u001b[0m\u001b[0memf_tube\u001b[0m\u001b[0;34m)\u001b[0m\u001b[0;34m\u001b[0m\u001b[0m\n\u001b[1;32m     15\u001b[0m \u001b[0;34m\u001b[0m\u001b[0m\n\u001b[0;32m---> 16\u001b[0;31m \u001b[0mprint\u001b[0m\u001b[0;34m(\u001b[0m\u001b[0memf_tube2\u001b[0m\u001b[0;34m(\u001b[0m\u001b[0my\u001b[0m\u001b[0;34m,\u001b[0m\u001b[0;36m1\u001b[0m\u001b[0;34m)\u001b[0m\u001b[0;34m)\u001b[0m\u001b[0;34m\u001b[0m\u001b[0m\n\u001b[0m",
      "\u001b[0;32m~/anaconda/lib/python3.6/site-packages/numpy/lib/function_base.py\u001b[0m in \u001b[0;36m__call__\u001b[0;34m(self, *args, **kwargs)\u001b[0m\n\u001b[1;32m   2732\u001b[0m             \u001b[0mvargs\u001b[0m\u001b[0;34m.\u001b[0m\u001b[0mextend\u001b[0m\u001b[0;34m(\u001b[0m\u001b[0;34m[\u001b[0m\u001b[0mkwargs\u001b[0m\u001b[0;34m[\u001b[0m\u001b[0m_n\u001b[0m\u001b[0;34m]\u001b[0m \u001b[0;32mfor\u001b[0m \u001b[0m_n\u001b[0m \u001b[0;32min\u001b[0m \u001b[0mnames\u001b[0m\u001b[0;34m]\u001b[0m\u001b[0;34m)\u001b[0m\u001b[0;34m\u001b[0m\u001b[0m\n\u001b[1;32m   2733\u001b[0m \u001b[0;34m\u001b[0m\u001b[0m\n\u001b[0;32m-> 2734\u001b[0;31m         \u001b[0;32mreturn\u001b[0m \u001b[0mself\u001b[0m\u001b[0;34m.\u001b[0m\u001b[0m_vectorize_call\u001b[0m\u001b[0;34m(\u001b[0m\u001b[0mfunc\u001b[0m\u001b[0;34m=\u001b[0m\u001b[0mfunc\u001b[0m\u001b[0;34m,\u001b[0m \u001b[0margs\u001b[0m\u001b[0;34m=\u001b[0m\u001b[0mvargs\u001b[0m\u001b[0;34m)\u001b[0m\u001b[0;34m\u001b[0m\u001b[0m\n\u001b[0m\u001b[1;32m   2735\u001b[0m \u001b[0;34m\u001b[0m\u001b[0m\n\u001b[1;32m   2736\u001b[0m     \u001b[0;32mdef\u001b[0m \u001b[0m_get_ufunc_and_otypes\u001b[0m\u001b[0;34m(\u001b[0m\u001b[0mself\u001b[0m\u001b[0;34m,\u001b[0m \u001b[0mfunc\u001b[0m\u001b[0;34m,\u001b[0m \u001b[0margs\u001b[0m\u001b[0;34m)\u001b[0m\u001b[0;34m:\u001b[0m\u001b[0;34m\u001b[0m\u001b[0m\n",
      "\u001b[0;32m~/anaconda/lib/python3.6/site-packages/numpy/lib/function_base.py\u001b[0m in \u001b[0;36m_vectorize_call\u001b[0;34m(self, func, args)\u001b[0m\n\u001b[1;32m   2802\u001b[0m             \u001b[0mres\u001b[0m \u001b[0;34m=\u001b[0m \u001b[0mfunc\u001b[0m\u001b[0;34m(\u001b[0m\u001b[0;34m)\u001b[0m\u001b[0;34m\u001b[0m\u001b[0m\n\u001b[1;32m   2803\u001b[0m         \u001b[0;32melse\u001b[0m\u001b[0;34m:\u001b[0m\u001b[0;34m\u001b[0m\u001b[0m\n\u001b[0;32m-> 2804\u001b[0;31m             \u001b[0mufunc\u001b[0m\u001b[0;34m,\u001b[0m \u001b[0motypes\u001b[0m \u001b[0;34m=\u001b[0m \u001b[0mself\u001b[0m\u001b[0;34m.\u001b[0m\u001b[0m_get_ufunc_and_otypes\u001b[0m\u001b[0;34m(\u001b[0m\u001b[0mfunc\u001b[0m\u001b[0;34m=\u001b[0m\u001b[0mfunc\u001b[0m\u001b[0;34m,\u001b[0m \u001b[0margs\u001b[0m\u001b[0;34m=\u001b[0m\u001b[0margs\u001b[0m\u001b[0;34m)\u001b[0m\u001b[0;34m\u001b[0m\u001b[0m\n\u001b[0m\u001b[1;32m   2805\u001b[0m \u001b[0;34m\u001b[0m\u001b[0m\n\u001b[1;32m   2806\u001b[0m             \u001b[0;31m# Convert args to object arrays first\u001b[0m\u001b[0;34m\u001b[0m\u001b[0;34m\u001b[0m\u001b[0m\n",
      "\u001b[0;32m~/anaconda/lib/python3.6/site-packages/numpy/lib/function_base.py\u001b[0m in \u001b[0;36m_get_ufunc_and_otypes\u001b[0;34m(self, func, args)\u001b[0m\n\u001b[1;32m   2762\u001b[0m \u001b[0;34m\u001b[0m\u001b[0m\n\u001b[1;32m   2763\u001b[0m             \u001b[0minputs\u001b[0m \u001b[0;34m=\u001b[0m \u001b[0;34m[\u001b[0m\u001b[0marg\u001b[0m\u001b[0;34m.\u001b[0m\u001b[0mflat\u001b[0m\u001b[0;34m[\u001b[0m\u001b[0;36m0\u001b[0m\u001b[0;34m]\u001b[0m \u001b[0;32mfor\u001b[0m \u001b[0marg\u001b[0m \u001b[0;32min\u001b[0m \u001b[0margs\u001b[0m\u001b[0;34m]\u001b[0m\u001b[0;34m\u001b[0m\u001b[0m\n\u001b[0;32m-> 2764\u001b[0;31m             \u001b[0moutputs\u001b[0m \u001b[0;34m=\u001b[0m \u001b[0mfunc\u001b[0m\u001b[0;34m(\u001b[0m\u001b[0;34m*\u001b[0m\u001b[0minputs\u001b[0m\u001b[0;34m)\u001b[0m\u001b[0;34m\u001b[0m\u001b[0m\n\u001b[0m\u001b[1;32m   2765\u001b[0m \u001b[0;34m\u001b[0m\u001b[0m\n\u001b[1;32m   2766\u001b[0m             \u001b[0;31m# Performance note: profiling indicates that -- for simple\u001b[0m\u001b[0;34m\u001b[0m\u001b[0;34m\u001b[0m\u001b[0m\n",
      "\u001b[0;32m<ipython-input-13-96405e5b10e0>\u001b[0m in \u001b[0;36memf_tube\u001b[0;34m(J, i)\u001b[0m\n\u001b[1;32m     11\u001b[0m \u001b[0;34m\u001b[0m\u001b[0m\n\u001b[1;32m     12\u001b[0m \u001b[0;32mdef\u001b[0m \u001b[0memf_tube\u001b[0m\u001b[0;34m(\u001b[0m\u001b[0mJ\u001b[0m\u001b[0;34m,\u001b[0m\u001b[0mi\u001b[0m\u001b[0;34m)\u001b[0m\u001b[0;34m:\u001b[0m\u001b[0;34m\u001b[0m\u001b[0m\n\u001b[0;32m---> 13\u001b[0;31m     \u001b[0;32mreturn\u001b[0m \u001b[0mJ\u001b[0m\u001b[0;34m[\u001b[0m\u001b[0mi\u001b[0m\u001b[0;34m]\u001b[0m\u001b[0;34m-\u001b[0m\u001b[0mJ\u001b[0m\u001b[0;34m[\u001b[0m\u001b[0mi\u001b[0m\u001b[0;34m-\u001b[0m\u001b[0;36m1\u001b[0m\u001b[0;34m]\u001b[0m\u001b[0;34m\u001b[0m\u001b[0m\n\u001b[0m\u001b[1;32m     14\u001b[0m \u001b[0memf_tube2\u001b[0m \u001b[0;34m=\u001b[0m \u001b[0mnp\u001b[0m\u001b[0;34m.\u001b[0m\u001b[0mvectorize\u001b[0m\u001b[0;34m(\u001b[0m\u001b[0memf_tube\u001b[0m\u001b[0;34m)\u001b[0m\u001b[0;34m\u001b[0m\u001b[0m\n\u001b[1;32m     15\u001b[0m \u001b[0;34m\u001b[0m\u001b[0m\n",
      "\u001b[0;31mIndexError\u001b[0m: invalid index to scalar variable."
     ]
    }
   ],
   "source": [
    "import numpy as np\n",
    "import scipy as sp\n",
    "import scipy.special\n",
    "\n",
    "x = np.ones(10)\n",
    "print(sp.special.ellipk(x-0.5))\n",
    "\n",
    "y = np.array([[1,2,3],[4,5,6]])\n",
    "print(y[0,:])\n",
    "\n",
    "\n",
    "def emf_tube(J,i):\n",
    "    return J[i]-J[i-1]\n",
    "emf_tube = np.vectorize(emf_tube)\n",
    "\n",
    "print(emf_tube(y,1))"
   ]
  },
  {
   "cell_type": "code",
   "execution_count": null,
   "metadata": {
    "collapsed": true
   },
   "outputs": [],
   "source": []
  }
 ],
 "metadata": {
  "kernelspec": {
   "display_name": "Python 3",
   "language": "python",
   "name": "python3"
  },
  "language_info": {
   "codemirror_mode": {
    "name": "ipython",
    "version": 3
   },
   "file_extension": ".py",
   "mimetype": "text/x-python",
   "name": "python",
   "nbconvert_exporter": "python",
   "pygments_lexer": "ipython3",
   "version": "3.6.2"
  }
 },
 "nbformat": 4,
 "nbformat_minor": 2
}
